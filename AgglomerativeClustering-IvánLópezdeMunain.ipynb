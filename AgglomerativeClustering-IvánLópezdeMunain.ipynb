{
 "cells": [
  {
   "cell_type": "markdown",
   "metadata": {},
   "source": [
    "## Práctica:  IRIS clustering aglomerativo "
   ]
  },
  {
   "cell_type": "markdown",
   "metadata": {},
   "source": [
    "### Iván López de Munain Quintana"
   ]
  },
  {
   "cell_type": "code",
   "execution_count": 46,
   "metadata": {},
   "outputs": [],
   "source": [
    "import numpy as np\n",
    "from sklearn.datasets import load_iris\n",
    "from sklearn.preprocessing import minmax_scale, StandardScaler"
   ]
  },
  {
   "cell_type": "code",
   "execution_count": 2,
   "metadata": {},
   "outputs": [],
   "source": [
    "iris= load_iris()\n",
    "y=iris.target\n",
    "x=iris.data[:,:2]"
   ]
  },
  {
   "cell_type": "markdown",
   "metadata": {},
   "source": [
    "### Escalado de los datos"
   ]
  },
  {
   "cell_type": "code",
   "execution_count": 48,
   "metadata": {},
   "outputs": [],
   "source": [
    "#x = minmax_scale(x)\n",
    "#normalizar\n",
    "normalizar = StandardScaler()\n",
    "x= normalizar.fit_transform(iris.data)"
   ]
  },
  {
   "cell_type": "markdown",
   "metadata": {},
   "source": [
    "###  K-Means - Cross-validation 10-Fold estratificada"
   ]
  },
  {
   "cell_type": "code",
   "execution_count": 43,
   "metadata": {},
   "outputs": [],
   "source": [
    "from sklearn.model_selection import StratifiedKFold\n",
    "from sklearn.cluster import AgglomerativeClustering\n",
    "from scipy.stats import mode\n"
   ]
  },
  {
   "cell_type": "code",
   "execution_count": 49,
   "metadata": {},
   "outputs": [
    {
     "name": "stdout",
     "output_type": "stream",
     "text": [
      "Tasa de aciertos para 3 clusters :  0.827 %\n",
      "Tasa de aciertos para 4 clusters :  0.833 %\n",
      "Tasa de aciertos para 5 clusters :  0.833 %\n",
      "Tasa de aciertos para 6 clusters :  0.833 %\n",
      "Tasa de aciertos para 7 clusters :  0.833 %\n",
      "Tasa de aciertos para 8 clusters :  0.833 %\n",
      "Tasa de aciertos para 9 clusters :  0.833 %\n",
      "Tasa de aciertos para 10 clusters :  0.893 %\n",
      "Tasa de aciertos para 11 clusters :  0.893 %\n",
      "Tasa de aciertos para 12 clusters :  0.927 %\n",
      "Tasa de aciertos para 13 clusters :  0.927 %\n",
      "Tasa de aciertos para 14 clusters :  0.933 %\n",
      "Tasa de aciertos para 15 clusters :  0.933 %\n"
     ]
    }
   ],
   "source": [
    "acumul=np.empty(13)\n",
    "\n",
    "for k in range(3,16):\n",
    "        \n",
    "        clustering = AgglomerativeClustering(n_clusters=k)\n",
    "        clustering.fit(x)\n",
    " \n",
    "        moda= -1*np.ones(k,dtype='float')\n",
    "    \n",
    "        for j in range(0,k):\n",
    "            moda[j] = mode(y[np.argwhere(clustering.labels_ == j)])[0].astype('int')\n",
    "\n",
    "        yPredict = moda[clustering.labels_]\n",
    "        \n",
    "        aciertos = 0\n",
    "        for i in range(len(y)):\n",
    "            if yPredict[i]==y[i]:\n",
    "                aciertos+=1\n",
    "\n",
    "        acumul[k-3] = aciertos/len(y)\n",
    "        \n",
    "\n",
    "for a in range(3,16):\n",
    "    print(\"Tasa de aciertos para\", a , \"clusters : \", round(acumul[a-3],3), \"%\")\n"
   ]
  },
  {
   "cell_type": "code",
   "execution_count": 50,
   "metadata": {},
   "outputs": [
    {
     "data": {
      "image/png": "[encoded data removed]",
      "text/plain": [
       "<Figure size 432x288 with 1 Axes>"
      ]
     },
     "metadata": {
      "needs_background": "light"
     },
     "output_type": "display_data"
    }
   ],
   "source": [
    "import matplotlib.pyplot as plt\n",
    "plt.bar(np.arange(3,15+1,dtype='int'),acumul)\n",
    "#plt.title\n",
    "#plt.xlabel\n",
    "plt.show()"
   ]
  },
  {
   "cell_type": "code",
   "execution_count": 51,
   "metadata": {},
   "outputs": [
    {
     "data": {
      "image/png": "[encoded data removed]",
      "text/plain": [
       "<Figure size 432x288 with 1 Axes>"
      ]
     },
     "metadata": {
      "needs_background": "light"
     },
     "output_type": "display_data"
    }
   ],
   "source": [
    "plt.plot(np.arange(3,15+1,dtype='int'),acumul)\n",
    "plt.show()"
   ]
  },
  {
   "cell_type": "markdown",
   "metadata": {},
   "source": [
    "### Conclusiones\n",
    "\n",
    "A vista de los resultados obtenidos podemos concluir que con 3,8,9 y 10 cluster se obtienen los mejores resultados. La mayoría de resultados se encuentran entre el 60% y el 70% de acierto, destacando para 4 clusters que se obtiene una tasa de acierto bastante baja."
   ]
  },
  {
   "cell_type": "code",
   "execution_count": null,
   "metadata": {},
   "outputs": [],
   "source": []
  }
 ],
 "metadata": {
  "kernelspec": {
   "display_name": "Python 3",
   "language": "python",
   "name": "python3"
  },
  "language_info": {
   "codemirror_mode": {
    "name": "ipython",
    "version": 3
   },
   "file_extension": ".py",
   "mimetype": "text/x-python",
   "name": "python",
   "nbconvert_exporter": "python",
   "pygments_lexer": "ipython3",
   "version": "3.7.4"
  }
 },
 "nbformat": 4,
 "nbformat_minor": 2
}
