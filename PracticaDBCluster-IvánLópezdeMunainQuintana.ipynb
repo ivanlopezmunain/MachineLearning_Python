{
 "cells": [
  {
   "cell_type": "markdown",
   "metadata": {},
   "source": [
    "## Práctica DB-Cluster"
   ]
  },
  {
   "cell_type": "markdown",
   "metadata": {},
   "source": [
    "### Iván López de Munain Quintana"
   ]
  },
  {
   "cell_type": "code",
   "execution_count": 1,
   "metadata": {},
   "outputs": [
    {
     "name": "stdout",
     "output_type": "stream",
     "text": [
      "{12}: 0.25 , {345}: 19.5\n",
      "{13}: 2.25 , {245}: 21.5\n",
      "{14}: 4.0 , {235}: 24.0\n",
      "{15} 12.25 , {234}: 6.0\n",
      "{23} 4.0 , {145}: 19.0\n",
      "{24} 4.0 , {135}: 20.333333333333332\n",
      "{25} 12.25 , {134}: 4.833333333333334\n",
      "{34} 1.0 , {125}: 19.0\n",
      "{35} 16.0 , {124}: 5.5\n",
      "{45} 12.25 , {123}: 4.333333333333333\n",
      " {1} 0 , {2345}:   86.625\n",
      " {2} 0 , {1345}:     23.875\n",
      " {3} 0  , {1245}:    24.375\n",
      " {4} 0  , {1235}:    25.375\n",
      " {5} 0  , {1234}:    7.75\n"
     ]
    }
   ],
   "source": [
    "import numpy as np\n",
    "\n",
    "dist = np.array([\n",
    "    [0, 1, 3, 4, 7],\n",
    "    [1,0, 4, 4, 8],\n",
    "    [3,4,0, 2, 8],\n",
    "    [4,4,2,0, 7],\n",
    "    [7,8,8,7,0]\n",
    "])\n",
    "\n",
    "n=dist.shape[0]\n",
    "\n",
    "heter12 = 1/(2*4)\n",
    "heter345 = (2**2+8**2+7**2)/(2*9)\n",
    "print(\"{12}:\", 2*heter12,\", {345}:\", 3*heter345)\n",
    "\n",
    "heter13 = 3**2/(2*4)\n",
    "heter245 = (4**2+8**2+7**2)/(2*9)\n",
    "print(\"{13}:\",2*heter13,\", {245}:\",3*heter245)\n",
    "\n",
    "heter14 = 4**2/(2*4)\n",
    "heter235 = (4**2+8**2+8**2)/(2*9)\n",
    "print(\"{14}:\",2*heter14,\", {235}:\",3*heter235)\n",
    "\n",
    "heter15 = 7**2/(2*4)\n",
    "heter234 = (4**2+4**2+2**2)/(2*9)\n",
    "print(\"{15}\",2*heter15,\", {234}:\",3*heter234)\n",
    "\n",
    "heter23 = 4**2/(2*4)\n",
    "heter145 = (4**2+7**2+7**2)/(2*9)\n",
    "print(\"{23}\",2*heter23,\", {145}:\",3*heter145)\n",
    "\n",
    "heter24 = 4**2/(2*4)\n",
    "heter135 = (3**2+7**2+8**2)/(2*9)\n",
    "print(\"{24}\",2*heter24,\", {135}:\",3*heter135)\n",
    "\n",
    "heter25 = 7**2/(2*4)\n",
    "heter134 = (3**2+4**2+2**2)/(2*9)\n",
    "print(\"{25}\",2*heter25,\", {134}:\",3*heter134)\n",
    "\n",
    "heter34 = 2**2/(2*4)\n",
    "heter125 = (1**2+7**2+8**2)/(2*9)\n",
    "print(\"{34}\",2*heter34,\", {125}:\",3*heter125)\n",
    "\n",
    "heter35 = 8**2/(2*4)\n",
    "heter124 = (1**2+4**2+4**2)/(2*9)\n",
    "print(\"{35}\",2*heter35,\", {124}:\",3*heter124)\n",
    "\n",
    "heter45 = 7**2/(2*4)\n",
    "heter123 = (1**2+3**2+4**2)/(2*9)\n",
    "print(\"{45}\",2*heter45,\", {123}:\",3*heter123)\n",
    "\n",
    "heter1 = 0\n",
    "heter2345 = (4**4+4**4+8**2+2**2+8**2+7**2)/(2*16)\n",
    "print(\" {1}\",heter1,\", {2345}:  \",4*heter2345)\n",
    "\n",
    "heter2 = 0\n",
    "heter1345 = (3**2+4**2+7**2+2**2+8**2+7**2)/(2*16)\n",
    "print(\" {2}\",heter2,\", {1345}:    \",4*heter1345)\n",
    "\n",
    "heter3 = 0\n",
    "heter1245 = (1**2+4**2+7**2+4**2+8**2+7**2)/(2*16)\n",
    "print(\" {3}\",heter3,\" , {1245}:   \",4*heter1245)\n",
    "\n",
    "heter4 = 0\n",
    "heter1235 = (1**2+3**2+7**2+4**2+8**2+8**2)/(2*16)\n",
    "print(\" {4}\",heter4,\" , {1235}:   \",4*heter1235)\n",
    "\n",
    "heter5 = 0\n",
    "heter1234 = (1**2+3**2+4**2+4**2+4**2+2**2)/(2*16)\n",
    "print(\" {5}\",heter5,\" , {1234}:   \",4*heter1234)\n"
   ]
  },
  {
   "cell_type": "markdown",
   "metadata": {},
   "source": [
    "Con estos resultados (para obtener la heterogeneidad total hay que sumar por filas) vemos cómo la menor heterogeneidad se obtiene al hacer un cluster con la muestra 5 y otro cluster formado por las muestras 1,2, 3 y 4(heterogeneidad=7.75)."
   ]
  },
  {
   "cell_type": "code",
   "execution_count": 3,
   "metadata": {},
   "outputs": [
    {
     "name": "stdout",
     "output_type": "stream",
     "text": [
      "{1}{234} 6.0\n",
      "{134}{2} 4.833333333333334\n",
      "{3}{124} 5.5\n",
      "{4}{123} 4.333333333333333\n",
      "{12}{34} 1.25\n",
      "{13}{24} 6.25\n",
      "{14}{23} 8.0\n"
     ]
    }
   ],
   "source": [
    "heter1_234 =  3 * heter234\n",
    "print(\"{1}{234}\",heter1_234)\n",
    "heter2_134 = 3 * heter134\n",
    "print(\"{134}{2}\",heter2_134)\n",
    "heter3_124 =  3 * heter124\n",
    "print(\"{3}{124}\",heter3_124)\n",
    "heter4_123 =  3 * heter123\n",
    "print(\"{4}{123}\",heter4_123)\n",
    "heter12_34= 2*heter12+ 2*heter34\n",
    "print(\"{12}{34}\", heter12_34)\n",
    "heter13_24= 2*heter13+2*heter24\n",
    "print(\"{13}{24}\", heter13_24)\n",
    "heter14_23=2*heter14+2*heter23\n",
    "print(\"{14}{23}\", heter14_23)"
   ]
  },
  {
   "cell_type": "markdown",
   "metadata": {},
   "source": [
    "El más pequeño es el cluster formado por 1 y 2, y otro cluster formado por 3 y 4 (heterogeneidad de 1.25)."
   ]
  },
  {
   "cell_type": "code",
   "execution_count": 7,
   "metadata": {},
   "outputs": [
    {
     "name": "stdout",
     "output_type": "stream",
     "text": [
      "0.125\n",
      "0.5\n"
     ]
    }
   ],
   "source": [
    "print(heter12)\n",
    "print(heter34)"
   ]
  },
  {
   "cell_type": "code",
   "execution_count": 9,
   "metadata": {},
   "outputs": [
    {
     "data": {
      "image/png": "[encoded data removed]",
      "text/plain": [
       "<Figure size 720x720 with 1 Axes>"
      ]
     },
     "metadata": {
      "needs_background": "light"
     },
     "output_type": "display_data"
    }
   ],
   "source": [
    "#Dendograma\n",
    "from matplotlib import pyplot as plt\n",
    "from scipy.cluster.hierarchy import dendrogram\n",
    "\n",
    "linkage= np.array([\n",
    "    [2,3,0.5,2],\n",
    "    [0,1,0.125,2],\n",
    "    [5,6,1.25,3],\n",
    "    [4,7,7.75,5]\n",
    "], dtype=\"float\")\n",
    "\n",
    "fig = plt.figure(figsize=(10, 10))\n",
    "dn = dendrogram(linkage)\n",
    "plt.show()"
   ]
  },
  {
   "cell_type": "markdown",
   "metadata": {},
   "source": [
    "### Selección inicial de centros"
   ]
  },
  {
   "cell_type": "code",
   "execution_count": 2,
   "metadata": {},
   "outputs": [
    {
     "name": "stdout",
     "output_type": "stream",
     "text": [
      "[2 0 2 1 0 4 1 2 5 2 0 3 4 1 0]\n",
      "\n",
      "Aglomerativo Ward con selección de centros:\n",
      "\n",
      "Tasa de aciertos con seleccion incial de centros:  0.84 %\n"
     ]
    }
   ],
   "source": [
    "import numpy as np\n",
    "from sklearn.datasets import load_iris\n",
    "from sklearn.preprocessing import minmax_scale, StandardScaler\n",
    "from sklearn.cluster import AgglomerativeClustering\n",
    "from scipy.stats import mode\n",
    "from sklearn.model_selection import StratifiedKFold\n",
    "from sklearn.cluster import KMeans\n",
    "from math import floor\n",
    "\n",
    "iris= load_iris()\n",
    "y=iris.target\n",
    "x=iris.data[:,:2]\n",
    "\n",
    "#x = minmax_scale(x)\n",
    "#normalizar\n",
    "normalizar = StandardScaler()\n",
    "x= normalizar.fit_transform(iris.data)\n",
    "\n",
    "kmedias = KMeans(n_clusters=15).fit(x)\n",
    "etiquetas = kmedias.labels_\n",
    "centroids = kmedias.cluster_centers_\n",
    "prediction=kmedias.predict(x)\n",
    "\n",
    "clusteringWard = AgglomerativeClustering(n_clusters=6, linkage=\"ward\")\n",
    "clusteringWard.fit(centroids)\n",
    "\n",
    "etiq = clusteringWard.labels_\n",
    "finalPred = -1*np.ones(prediction.shape[0],dtype='int')\n",
    "\n",
    "for i in range(prediction.shape[0]):\n",
    "    finalPred[i]= etiq[prediction[i]]\n",
    "    \n",
    "\n",
    "modaWard= -1*np.ones(6,dtype='float')\n",
    "for j in range(0,6):\n",
    "    modaWard[j] = mode(y[np.argwhere(finalPred == j)])[0].astype('int')\n",
    "\n",
    "yPredictWard = modaWard[finalPred]\n",
    "\n",
    "aciertosWard = 0\n",
    "\n",
    "for i in range(len(y)):\n",
    "    if yPredictWard[i]==y[i]:\n",
    "        aciertosWard+=1\n",
    "\n",
    "print(\"\\nAglomerativo Ward con selección de centros:\\n\")\n",
    "print(\"Tasa de aciertos con seleccion incial de centros: \", round(aciertosWard/len(y),3), \"%\")\n"
   ]
  },
  {
   "cell_type": "markdown",
   "metadata": {},
   "source": [
    "### DBSCAN Iris"
   ]
  },
  {
   "cell_type": "code",
   "execution_count": 23,
   "metadata": {},
   "outputs": [
    {
     "name": "stdout",
     "output_type": "stream",
     "text": [
      "[ 0  1  1  1  2  3 -1  0  4  1  5  0  1  4 -1 -1  3  0 -1  6 -1 -1 -1 -1\n",
      "  0  1 -1  0  0  1  1 -1 -1 -1  1 -1 -1  2  4  0  0 -1  1 -1 -1  1  6  1\n",
      "  5  0 -1 -1 -1 -1 -1  7 -1 -1 -1 -1 -1 -1 -1  8 -1  9 10 -1 -1 -1 -1 -1\n",
      " -1 -1 11 -1 -1 -1  8 -1 12 12 13 -1 10 -1  9 -1 14 -1 -1  8 13 -1 -1 14\n",
      "  7 11 -1  7 -1 15 -1 -1 -1 -1 -1 -1 -1 -1 -1 -1 -1 -1 -1 -1 -1 -1 -1 -1\n",
      " 16 -1 -1 -1 -1 -1 -1 17 18 -1 -1 -1 18 -1 -1 -1 19 -1 17 -1 -1 -1 15 16\n",
      " -1 -1 -1 -1 19 17]\n"
     ]
    }
   ],
   "source": [
    "from sklearn.cluster import DBSCAN\n",
    "\n",
    "#hacer holdout\n",
    "clustering = DBSCAN(eps=0.25, min_samples=2).fit(x)\n",
    "print(clustering.labels_)\n"
   ]
  },
  {
   "cell_type": "code",
   "execution_count": null,
   "metadata": {},
   "outputs": [],
   "source": []
  }
 ],
 "metadata": {
  "kernelspec": {
   "display_name": "Python 3",
   "language": "python",
   "name": "python3"
  },
  "language_info": {
   "codemirror_mode": {
    "name": "ipython",
    "version": 3
   },
   "file_extension": ".py",
   "mimetype": "text/x-python",
   "name": "python",
   "nbconvert_exporter": "python",
   "pygments_lexer": "ipython3",
   "version": "3.7.4"
  }
 },
 "nbformat": 4,
 "nbformat_minor": 2
}
