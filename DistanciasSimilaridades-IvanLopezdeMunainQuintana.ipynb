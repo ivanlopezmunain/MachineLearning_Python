{
 "cells": [
  {
   "cell_type": "markdown",
   "metadata": {},
   "source": [
    "## Práctica 2:  Cálculo de distancias"
   ]
  },
  {
   "cell_type": "markdown",
   "metadata": {},
   "source": [
    "### Author: Iván López de Munain Quintana"
   ]
  },
  {
   "cell_type": "markdown",
   "metadata": {},
   "source": [
    "#### Atributos continuos"
   ]
  },
  {
   "cell_type": "code",
   "execution_count": 9,
   "metadata": {},
   "outputs": [
    {
     "name": "stdout",
     "output_type": "stream",
     "text": [
      "Distancia euclidea:  2.7928480087537886\n",
      "Distancia minkowski para q=1:  5.4\n",
      "Distancia minkowski para q=3:  2.282155548417709\n",
      "Distancia mahalanobis:  1.6955824957813173\n"
     ]
    }
   ],
   "source": [
    "from scipy.spatial import distance\n",
    "import numpy as np\n",
    "\n",
    "x =[2.1,3.1,3.4,1.9]\n",
    "y=[1.2,2,1.7,3.6]\n",
    "euclidea = distance.euclidean(x,y)\n",
    "print(\"Distancia euclidea: \",euclidea)\n",
    "\n",
    "mink1 = distance.minkowski(x,y,1)\n",
    "mink3 = distance.minkowski(x,y,3)\n",
    "print(\"Distancia minkowski para q=1: \",mink1)\n",
    "print(\"Distancia minkowski para q=3: \",mink3)\n",
    "\n",
    "sigma = [[2,0,0,0],\n",
    "        [0,4,0,0],\n",
    "         [0,0,4,0],\n",
    "         [0,0,0,2]\n",
    "        ]\n",
    "maha = distance.mahalanobis(x,y, np.linalg.inv(sigma))\n",
    "print(\"Distancia mahalanobis: \",maha)"
   ]
  },
  {
   "cell_type": "markdown",
   "metadata": {},
   "source": [
    "#### Atributos discretos - Similaridades"
   ]
  },
  {
   "cell_type": "code",
   "execution_count": 22,
   "metadata": {},
   "outputs": [
    {
     "name": "stdout",
     "output_type": "stream",
     "text": [
      "Distancia de Sokal-Michel:  0.6\n",
      "Distancia de Jaccard:  0.42857142857142855\n",
      "Distancia de Gower Jaccar:  1.0690449676496976\n",
      "Distancia de Gower Sokel:  0.8944271909999159\n",
      "Distancia de hamming:  0.4\n"
     ]
    }
   ],
   "source": [
    "import pandas as pd\n",
    "\n",
    "x = [1,0,0,0,1,1,0,1,0,0]\n",
    "y = [0,0,1,0,1,1,1,1,0,1]\n",
    "\n",
    "conting = np.zeros(shape=(2,2))\n",
    "for i in range(len(x)):\n",
    "    if x[i]==0 and y[i]==0:\n",
    "        conting[0,0]+=1\n",
    "    elif x[i]==0 and y[i]==1:\n",
    "        conting[0,1]+=1\n",
    "    elif x[i]==1 and y[i]==0:\n",
    "        conting[1,0]+=1\n",
    "    elif x[i]==1 and y[i]==1:\n",
    "        conting[1,1]+=1\n",
    "distSokal = (conting[0,0]+conting[1,1])/len(x)\n",
    "print(\"Distancia de Sokal-Michel: \",distSokal)\n",
    "\n",
    "distJac = conting[1,1]/(conting[1,1]+conting[0,1]+conting[1,0])\n",
    "print(\"Distancia de Jaccard: \",distJac)\n",
    "\n",
    "#Gower\n",
    "\n",
    "distGowerJ = np.sqrt(2*(1-distJac))\n",
    "distGowerS = np.sqrt(2*(1-distSokal))\n",
    "print(\"Distancia de Gower Jaccar: \", distGowerJ)\n",
    "print(\"Distancia de Gower Sokel: \", distGowerS)\n",
    "\n",
    "ham = distance.hamming(x,y)\n",
    "print(\"Distancia de hamming: \", ham)\n"
   ]
  },
  {
   "cell_type": "markdown",
   "metadata": {},
   "source": [
    "### Ejercicio similaridad para variables mixtas"
   ]
  },
  {
   "cell_type": "code",
   "execution_count": 23,
   "metadata": {},
   "outputs": [],
   "source": [
    "datos= [\n",
    "    [50.2,2.9,0,1,1,1],\n",
    "    [52.3,3.7,1,1,1,2]\n",
    "]"
   ]
  },
  {
   "cell_type": "code",
   "execution_count": 44,
   "metadata": {},
   "outputs": [
    {
     "name": "stdout",
     "output_type": "stream",
     "text": [
      "El valor de similitud es:  0.518604651162791\n"
     ]
    }
   ],
   "source": [
    "n1 = 2\n",
    "n2= 2\n",
    "n3= 2\n",
    "a0=0\n",
    "d1=1\n",
    "alfa = 1\n",
    "\n",
    "num = (1-(np.absolute(datos[0][0]-datos[1][0]))/4.3)+ (1-(np.absolute(datos[0][1]-datos[1][1]))/2) + d1 + alfa\n",
    "den = n1 + n2 - a0 + n3\n",
    "\n",
    "print(\"El valor de similitud es: \",num/den)\n"
   ]
  },
  {
   "cell_type": "code",
   "execution_count": null,
   "metadata": {},
   "outputs": [],
   "source": []
  }
 ],
 "metadata": {
  "kernelspec": {
   "display_name": "Python 3",
   "language": "python",
   "name": "python3"
  },
  "language_info": {
   "codemirror_mode": {
    "name": "ipython",
    "version": 3
   },
   "file_extension": ".py",
   "mimetype": "text/x-python",
   "name": "python",
   "nbconvert_exporter": "python",
   "pygments_lexer": "ipython3",
   "version": "3.7.4"
  }
 },
 "nbformat": 4,
 "nbformat_minor": 2
}
